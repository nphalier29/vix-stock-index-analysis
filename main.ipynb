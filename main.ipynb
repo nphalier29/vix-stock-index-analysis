{
 "cells": [
  {
   "cell_type": "markdown",
   "id": "89014ad4",
   "metadata": {},
   "source": [
    "# Étude de l’impact du VIX sur les marchés boursiers mondiaux\n",
    "\n",
    "**Problématique :** Dans quelle mesure l’évolution du VIX permet-elle d’expliquer ou d’anticiper les variations des marchés boursiers internationaux ?\n",
    "\n",
    "On cherche à savoir si une hausse du VIX (la “peur” sur Wall Street) provoque une baisse ou une réaction similaire sur les marchés européens et asiatiques"
   ]
  },
  {
   "cell_type": "markdown",
   "id": "773c1647",
   "metadata": {},
   "source": [
    "---\n",
    "\n",
    "### Importation des packages"
   ]
  },
  {
   "cell_type": "code",
   "execution_count": null,
   "id": "0a07633c",
   "metadata": {},
   "outputs": [],
   "source": [
    "import pandas as pd\n",
    "import yfinance as yf\n",
    "import matplotlib.pyplot as plt\n",
    "import warnings\n",
    "warnings.filterwarnings('ignore')"
   ]
  },
  {
   "cell_type": "markdown",
   "id": "c4d2cfb9",
   "metadata": {},
   "source": [
    "---\n",
    "\n",
    "### Importation des données "
   ]
  },
  {
   "cell_type": "code",
   "execution_count": null,
   "id": "7c25d4f5",
   "metadata": {},
   "outputs": [],
   "source": [
    "start_date = '2007-03-30'\n",
    "end_date = pd.Timestamp.today().strftime('%Y-%m-%d')\n",
    "\n",
    "# data for VIX and stock indices\n",
    "\n",
    "tickers = {\n",
    "    'VIX': '^VIX',\n",
    "    'S&P500': '^GSPC',\n",
    "    'EuroStoxx50': '^STOXX50E',\n",
    "    'Nikkei225': '^N225'\n",
    "}\n",
    "\n",
    "dic = {}\n",
    "\n",
    "for key, ticker in tickers.items():\n",
    "    data = yf.download(ticker, start=start_date, end=end_date)\n",
    "    dic[key] = data\n",
    "\n",
    "data = pd.concat(dic, axis=1)\n",
    "\n",
    "# # exchange rates to convert to USD\n",
    "\n",
    "# fx = {\n",
    "#     'EURUSD': 'EURUSD=X',  # Euro -> USD\n",
    "#     'JPYUSD': 'JPYUSD=X'   # Yen -> USD\n",
    "# }\n",
    "\n",
    "# dic_fx = {}\n",
    "\n",
    "# for key, ticker in fx.items():\n",
    "#     data_fx = yf.download(ticker, start=start_date, end=end_date)\n",
    "#     dic_fx[key] = data_fx['Close']\n",
    "\n",
    "# fx_data = pd.concat(dic_fx, axis=1)\n",
    "\n",
    "# function to convert to USD\n",
    "    \n",
    "print(data.tail())"
   ]
  },
  {
   "cell_type": "markdown",
   "id": "219edc71",
   "metadata": {},
   "source": [
    "--- \n",
    "\n",
    "### Représentation graphique"
   ]
  },
  {
   "cell_type": "code",
   "execution_count": null,
   "id": "a182b4ad",
   "metadata": {},
   "outputs": [],
   "source": [
    "fig, axs = plt.subplots(2, 2, figsize=(14, 8), sharex=True)\n",
    "\n",
    "axs[0, 0].plot(data['VIX']['Close'], color='black')\n",
    "axs[0, 0].set_title('VIX')\n",
    "axs[0, 0].set_ylabel('Valeur')\n",
    "\n",
    "axs[0, 1].plot(data['S&P500']['Close'], color='orangered')\n",
    "axs[0, 1].set_title('S&P500')\n",
    "axs[0, 1].set_ylabel('Valeur')\n",
    "\n",
    "axs[1, 0].plot(data['EuroStoxx50']['Close'], color='navy')\n",
    "axs[1, 0].set_title('EuroStoxx50')\n",
    "axs[1, 0].set_ylabel('Valeur')\n",
    "\n",
    "axs[1, 1].plot(data['Nikkei225']['Close'], color='yellowgreen')\n",
    "axs[1, 1].set_title('Nikkei225')\n",
    "axs[1, 1].set_ylabel('Valeur')\n",
    "\n",
    "plt.tight_layout()\n",
    "plt.show()"
   ]
  }
 ],
 "metadata": {
  "kernelspec": {
   "display_name": "venv",
   "language": "python",
   "name": "python3"
  },
  "language_info": {
   "codemirror_mode": {
    "name": "ipython",
    "version": 3
   },
   "file_extension": ".py",
   "mimetype": "text/x-python",
   "name": "python",
   "nbconvert_exporter": "python",
   "pygments_lexer": "ipython3",
   "version": "3.12.7"
  }
 },
 "nbformat": 4,
 "nbformat_minor": 5
}
